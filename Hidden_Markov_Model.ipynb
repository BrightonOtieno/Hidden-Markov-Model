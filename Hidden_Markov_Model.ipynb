{
  "nbformat": 4,
  "nbformat_minor": 0,
  "metadata": {
    "colab": {
      "name": "Hidden Markov Model.ipynb",
      "provenance": [],
      "authorship_tag": "ABX9TyP3jFzK4U2A1VplnuGOtHdf",
      "include_colab_link": true
    },
    "kernelspec": {
      "name": "python3",
      "display_name": "Python 3"
    }
  },
  "cells": [
    {
      "cell_type": "markdown",
      "metadata": {
        "id": "view-in-github",
        "colab_type": "text"
      },
      "source": [
        "<a href=\"https://colab.research.google.com/github/BrightonOtieno/Hidden-Markov-Model/blob/master/Hidden_Markov_Model.ipynb\" target=\"_parent\"><img src=\"https://colab.research.google.com/assets/colab-badge.svg\" alt=\"Open In Colab\"/></a>"
      ]
    },
    {
      "cell_type": "markdown",
      "metadata": {
        "id": "L4sf8deB-OwR",
        "colab_type": "text"
      },
      "source": [
        "# Hidden Markov Model"
      ]
    },
    {
      "cell_type": "markdown",
      "metadata": {
        "id": "f0E15K9H-XA3",
        "colab_type": "text"
      },
      "source": [
        "### States \n",
        "* Eg Hot Day \n",
        "* Cold Day \n",
        "* red green blue\n",
        "### Observations\n",
        "the probability of something/Event occuring in a given state\n",
        "### Transitions\n",
        "likelyhood of transitioning to a different state"
      ]
    },
    {
      "cell_type": "markdown",
      "metadata": {
        "id": "67hMpeoh_eTf",
        "colab_type": "text"
      },
      "source": [
        "# Weather Model  that predict weather as sunny or rainy for 7 days\n"
      ]
    },
    {
      "cell_type": "markdown",
      "metadata": {
        "id": "GVp7Q6_z_qLB",
        "colab_type": "text"
      },
      "source": [
        "* Cold days are Encoded as 0 hot days as 1\n",
        "* **1st day** in the Sequence has a 80% chance of being cold\n",
        "* **Cold Day** has a **30%**chance of being followed by a hot Day\n",
        "* **Hot day** has **20%** of being followed by a cold day "
      ]
    },
    {
      "cell_type": "markdown",
      "metadata": {
        "id": "TFONdJ6QBKju",
        "colab_type": "text"
      },
      "source": [
        "### Temperature is (normally distributed) with \n",
        "* Average  mean 0  and a Standard Deviation of 5 for cold days (-5 to 5)\n",
        "* Average  mean 15  and a Standard Deviation of 10 for cold days(15 to 25)"
      ]
    },
    {
      "cell_type": "code",
      "metadata": {
        "id": "6apLfVgN-UzS",
        "colab_type": "code",
        "colab": {}
      },
      "source": [
        "import tensorflow as tf\n",
        "import tensorflow_probability as tfp"
      ],
      "execution_count": 1,
      "outputs": []
    },
    {
      "cell_type": "markdown",
      "metadata": {
        "id": "YjnyRlpCEemj",
        "colab_type": "text"
      },
      "source": [
        "# Model Parameters"
      ]
    },
    {
      "cell_type": "code",
      "metadata": {
        "id": "2g0OqlFTCL1-",
        "colab_type": "code",
        "colab": {}
      },
      "source": [
        "tfd = tfp.distributions # Short cut \n",
        "initial_distribution = tfd.Categorical(probs=[0.8,0.2]) # first Day\n",
        "transition_distribution = tfd.Categorical(\n",
        "    probs=[\n",
        "           [0.7,0.3],\n",
        "           [0.2,0.8]\n",
        "           ]\n",
        ")\n",
        "observation_distribution = tfd.Normal(\n",
        "    loc=[0.,15.],\n",
        "    scale=[5.,10.]\n",
        ")"
      ],
      "execution_count": 4,
      "outputs": []
    },
    {
      "cell_type": "markdown",
      "metadata": {
        "id": "2Tk2By9FEFUv",
        "colab_type": "text"
      },
      "source": [
        "# Creating the Model"
      ]
    },
    {
      "cell_type": "code",
      "metadata": {
        "id": "pEWTqJh6ECgw",
        "colab_type": "code",
        "colab": {}
      },
      "source": [
        "model = tfd.HiddenMarkovModel(\n",
        "    initial_distribution = initial_distribution,\n",
        "    transition_distribution=transition_distribution,\n",
        "    observation_distribution = observation_distribution,\n",
        "    num_steps = 7\n",
        "\n",
        ")"
      ],
      "execution_count": 5,
      "outputs": []
    },
    {
      "cell_type": "markdown",
      "metadata": {
        "id": "RkhPsaseE2Sl",
        "colab_type": "text"
      },
      "source": [
        "# Predict Average temperature for the 7 days"
      ]
    },
    {
      "cell_type": "code",
      "metadata": {
        "id": "TII7omWiE-FX",
        "colab_type": "code",
        "colab": {
          "base_uri": "https://localhost:8080/",
          "height": 34
        },
        "outputId": "0caaeed5-f940-4357-a860-aa05be0e1847"
      },
      "source": [
        "mean = model.mean()\n",
        "# Run a new tensorflow session\n",
        "with tf.compat.v1.Session() as sess:\n",
        "  print(mean.numpy())"
      ],
      "execution_count": 14,
      "outputs": [
        {
          "output_type": "stream",
          "text": [
            "[2.9999998 5.9999995 7.4999995 8.25      8.625001  8.812501  8.90625  ]\n"
          ],
          "name": "stdout"
        }
      ]
    },
    {
      "cell_type": "markdown",
      "metadata": {
        "id": "U_a8H-o3HQsG",
        "colab_type": "text"
      },
      "source": [
        "* day 1 3degrees  cold day \n",
        "* day 2 6degrees  cold day \n",
        "* day 3 7degrees  cold day \n",
        "* day 4 8degrees  cold day \n",
        "* day 5 9degrees  cold day \n",
        "* day 6 9degrees  cold day \n",
        "* day 7 9degrees  cold day "
      ]
    },
    {
      "cell_type": "markdown",
      "metadata": {
        "id": "sd5C_x4YHQpv",
        "colab_type": "text"
      },
      "source": [
        ""
      ]
    },
    {
      "cell_type": "code",
      "metadata": {
        "id": "GmOj0lTxFS2T",
        "colab_type": "code",
        "colab": {
          "base_uri": "https://localhost:8080/",
          "height": 129
        },
        "outputId": "53d1b8de-2a7f-46a8-9079-5d75a9294946"
      },
      "source": [
        ""
      ],
      "execution_count": 15,
      "outputs": [
        {
          "output_type": "error",
          "ename": "SyntaxError",
          "evalue": "ignored",
          "traceback": [
            "\u001b[0;36m  File \u001b[0;32m\"<ipython-input-15-2604e22bdf5e>\"\u001b[0;36m, line \u001b[0;32m1\u001b[0m\n\u001b[0;31m    * day 1 3degrees  cold day\u001b[0m\n\u001b[0m          ^\u001b[0m\n\u001b[0;31mSyntaxError\u001b[0m\u001b[0;31m:\u001b[0m invalid syntax\n"
          ]
        }
      ]
    }
  ]
}